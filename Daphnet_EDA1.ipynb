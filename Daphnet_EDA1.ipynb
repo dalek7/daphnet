{
 "cells": [
  {
   "cell_type": "code",
   "execution_count": 2,
   "metadata": {},
   "outputs": [],
   "source": [
    "import matplotlib.pyplot as plt \n",
    "import numpy as np \n",
    "import pandas as pd "
   ]
  },
  {
   "cell_type": "markdown",
   "metadata": {},
   "source": [
    "### 작업 PC정보"
   ]
  },
  {
   "cell_type": "code",
   "execution_count": 47,
   "metadata": {},
   "outputs": [
    {
     "name": "stdout",
     "output_type": "stream",
     "text": [
      "spacegray\n"
     ]
    }
   ],
   "source": [
    "import socket\n",
    "print(socket.gethostname())"
   ]
  },
  {
   "cell_type": "code",
   "execution_count": 46,
   "metadata": {
    "scrolled": true
   },
   "outputs": [
    {
     "name": "stdout",
     "output_type": "stream",
     "text": [
      "/home/seung/work/repos/Daphnet\r\n"
     ]
    }
   ],
   "source": [
    "!pwd"
   ]
  },
  {
   "cell_type": "markdown",
   "metadata": {},
   "source": [
    "### Data load"
   ]
  },
  {
   "cell_type": "code",
   "execution_count": 3,
   "metadata": {},
   "outputs": [],
   "source": [
    "df1 = pd.read_csv('./dataset/S01R01.txt', sep = ' ',\n",
    "                 names = ['time', 'acc_ankel_hor', 'acc_ankel_ver', 'acc_ankel_hl', \n",
    "               'acc_thigh_hor', 'acc_thigh_ver', 'acc_thigh_hl','acc_trunk_hor',\n",
    "               'acc_trunk_ver', 'acc_trunk_hl', 'Annotation' ]) "
   ]
  },
  {
   "cell_type": "code",
   "execution_count": 4,
   "metadata": {},
   "outputs": [
    {
     "data": {
      "text/html": [
       "<div>\n",
       "<style scoped>\n",
       "    .dataframe tbody tr th:only-of-type {\n",
       "        vertical-align: middle;\n",
       "    }\n",
       "\n",
       "    .dataframe tbody tr th {\n",
       "        vertical-align: top;\n",
       "    }\n",
       "\n",
       "    .dataframe thead th {\n",
       "        text-align: right;\n",
       "    }\n",
       "</style>\n",
       "<table border=\"1\" class=\"dataframe\">\n",
       "  <thead>\n",
       "    <tr style=\"text-align: right;\">\n",
       "      <th></th>\n",
       "      <th>time</th>\n",
       "      <th>acc_ankel_hor</th>\n",
       "      <th>acc_ankel_ver</th>\n",
       "      <th>acc_ankel_hl</th>\n",
       "      <th>acc_thigh_hor</th>\n",
       "      <th>acc_thigh_ver</th>\n",
       "      <th>acc_thigh_hl</th>\n",
       "      <th>acc_trunk_hor</th>\n",
       "      <th>acc_trunk_ver</th>\n",
       "      <th>acc_trunk_hl</th>\n",
       "      <th>Annotation</th>\n",
       "    </tr>\n",
       "  </thead>\n",
       "  <tbody>\n",
       "    <tr>\n",
       "      <th>0</th>\n",
       "      <td>15</td>\n",
       "      <td>70</td>\n",
       "      <td>39</td>\n",
       "      <td>-970</td>\n",
       "      <td>0</td>\n",
       "      <td>0</td>\n",
       "      <td>0</td>\n",
       "      <td>0</td>\n",
       "      <td>0</td>\n",
       "      <td>0</td>\n",
       "      <td>0</td>\n",
       "    </tr>\n",
       "    <tr>\n",
       "      <th>1</th>\n",
       "      <td>31</td>\n",
       "      <td>70</td>\n",
       "      <td>39</td>\n",
       "      <td>-970</td>\n",
       "      <td>0</td>\n",
       "      <td>0</td>\n",
       "      <td>0</td>\n",
       "      <td>0</td>\n",
       "      <td>0</td>\n",
       "      <td>0</td>\n",
       "      <td>0</td>\n",
       "    </tr>\n",
       "    <tr>\n",
       "      <th>2</th>\n",
       "      <td>46</td>\n",
       "      <td>60</td>\n",
       "      <td>49</td>\n",
       "      <td>-960</td>\n",
       "      <td>0</td>\n",
       "      <td>0</td>\n",
       "      <td>0</td>\n",
       "      <td>0</td>\n",
       "      <td>0</td>\n",
       "      <td>0</td>\n",
       "      <td>0</td>\n",
       "    </tr>\n",
       "    <tr>\n",
       "      <th>3</th>\n",
       "      <td>62</td>\n",
       "      <td>60</td>\n",
       "      <td>49</td>\n",
       "      <td>-960</td>\n",
       "      <td>0</td>\n",
       "      <td>0</td>\n",
       "      <td>0</td>\n",
       "      <td>0</td>\n",
       "      <td>0</td>\n",
       "      <td>0</td>\n",
       "      <td>0</td>\n",
       "    </tr>\n",
       "    <tr>\n",
       "      <th>4</th>\n",
       "      <td>78</td>\n",
       "      <td>50</td>\n",
       "      <td>39</td>\n",
       "      <td>-960</td>\n",
       "      <td>0</td>\n",
       "      <td>0</td>\n",
       "      <td>0</td>\n",
       "      <td>0</td>\n",
       "      <td>0</td>\n",
       "      <td>0</td>\n",
       "      <td>0</td>\n",
       "    </tr>\n",
       "    <tr>\n",
       "      <th>...</th>\n",
       "      <td>...</td>\n",
       "      <td>...</td>\n",
       "      <td>...</td>\n",
       "      <td>...</td>\n",
       "      <td>...</td>\n",
       "      <td>...</td>\n",
       "      <td>...</td>\n",
       "      <td>...</td>\n",
       "      <td>...</td>\n",
       "      <td>...</td>\n",
       "      <td>...</td>\n",
       "    </tr>\n",
       "    <tr>\n",
       "      <th>151982</th>\n",
       "      <td>2374734</td>\n",
       "      <td>80</td>\n",
       "      <td>39</td>\n",
       "      <td>-960</td>\n",
       "      <td>9</td>\n",
       "      <td>-46</td>\n",
       "      <td>-1000</td>\n",
       "      <td>514</td>\n",
       "      <td>-390</td>\n",
       "      <td>-747</td>\n",
       "      <td>0</td>\n",
       "    </tr>\n",
       "    <tr>\n",
       "      <th>151983</th>\n",
       "      <td>2374750</td>\n",
       "      <td>60</td>\n",
       "      <td>39</td>\n",
       "      <td>-950</td>\n",
       "      <td>-9</td>\n",
       "      <td>-27</td>\n",
       "      <td>-979</td>\n",
       "      <td>514</td>\n",
       "      <td>-390</td>\n",
       "      <td>-718</td>\n",
       "      <td>0</td>\n",
       "    </tr>\n",
       "    <tr>\n",
       "      <th>151984</th>\n",
       "      <td>2374765</td>\n",
       "      <td>60</td>\n",
       "      <td>39</td>\n",
       "      <td>-950</td>\n",
       "      <td>-18</td>\n",
       "      <td>-37</td>\n",
       "      <td>-979</td>\n",
       "      <td>524</td>\n",
       "      <td>-390</td>\n",
       "      <td>-747</td>\n",
       "      <td>0</td>\n",
       "    </tr>\n",
       "    <tr>\n",
       "      <th>151985</th>\n",
       "      <td>2374781</td>\n",
       "      <td>60</td>\n",
       "      <td>29</td>\n",
       "      <td>-950</td>\n",
       "      <td>9</td>\n",
       "      <td>-46</td>\n",
       "      <td>-969</td>\n",
       "      <td>524</td>\n",
       "      <td>-390</td>\n",
       "      <td>-728</td>\n",
       "      <td>0</td>\n",
       "    </tr>\n",
       "    <tr>\n",
       "      <th>151986</th>\n",
       "      <td>2374796</td>\n",
       "      <td>70</td>\n",
       "      <td>49</td>\n",
       "      <td>-970</td>\n",
       "      <td>0</td>\n",
       "      <td>0</td>\n",
       "      <td>0</td>\n",
       "      <td>0</td>\n",
       "      <td>0</td>\n",
       "      <td>0</td>\n",
       "      <td>0</td>\n",
       "    </tr>\n",
       "  </tbody>\n",
       "</table>\n",
       "<p>151987 rows × 11 columns</p>\n",
       "</div>"
      ],
      "text/plain": [
       "           time  acc_ankel_hor  acc_ankel_ver  acc_ankel_hl  acc_thigh_hor  \\\n",
       "0            15             70             39          -970              0   \n",
       "1            31             70             39          -970              0   \n",
       "2            46             60             49          -960              0   \n",
       "3            62             60             49          -960              0   \n",
       "4            78             50             39          -960              0   \n",
       "...         ...            ...            ...           ...            ...   \n",
       "151982  2374734             80             39          -960              9   \n",
       "151983  2374750             60             39          -950             -9   \n",
       "151984  2374765             60             39          -950            -18   \n",
       "151985  2374781             60             29          -950              9   \n",
       "151986  2374796             70             49          -970              0   \n",
       "\n",
       "        acc_thigh_ver  acc_thigh_hl  acc_trunk_hor  acc_trunk_ver  \\\n",
       "0                   0             0              0              0   \n",
       "1                   0             0              0              0   \n",
       "2                   0             0              0              0   \n",
       "3                   0             0              0              0   \n",
       "4                   0             0              0              0   \n",
       "...               ...           ...            ...            ...   \n",
       "151982            -46         -1000            514           -390   \n",
       "151983            -27          -979            514           -390   \n",
       "151984            -37          -979            524           -390   \n",
       "151985            -46          -969            524           -390   \n",
       "151986              0             0              0              0   \n",
       "\n",
       "        acc_trunk_hl  Annotation  \n",
       "0                  0           0  \n",
       "1                  0           0  \n",
       "2                  0           0  \n",
       "3                  0           0  \n",
       "4                  0           0  \n",
       "...              ...         ...  \n",
       "151982          -747           0  \n",
       "151983          -718           0  \n",
       "151984          -747           0  \n",
       "151985          -728           0  \n",
       "151986             0           0  \n",
       "\n",
       "[151987 rows x 11 columns]"
      ]
     },
     "execution_count": 4,
     "metadata": {},
     "output_type": "execute_result"
    }
   ],
   "source": [
    "df1"
   ]
  },
  {
   "cell_type": "markdown",
   "metadata": {},
   "source": [
    "Label\n",
    "\n",
    "```\n",
    "0: not part of the experiment.\n",
    "ex) the sensors are installed on the user or the user is performing activities unrelated to the experimental protocol, such as debriefing\n",
    "1: experiment, no freeze (can be any of stand, walk, turn)\n",
    "2: freeze\n",
    "```"
   ]
  },
  {
   "cell_type": "code",
   "execution_count": 44,
   "metadata": {},
   "outputs": [],
   "source": [
    "t = df1['time']\n",
    "ax = df1['acc_ankel_hor']\n",
    "ax = df1['acc_ankel_ver']\n",
    "lbl = df1['Annotation']"
   ]
  },
  {
   "cell_type": "code",
   "execution_count": 45,
   "metadata": {},
   "outputs": [
    {
     "data": {
      "text/plain": [
       "Text(0.5, 0, 'time (sec)')"
      ]
     },
     "execution_count": 45,
     "metadata": {},
     "output_type": "execute_result"
    },
    {
     "data": {
      "image/png": "[encoded data removed]",
      "text/plain": [
       "<Figure size 432x288 with 1 Axes>"
      ]
     },
     "metadata": {
      "needs_background": "light"
     },
     "output_type": "display_data"
    }
   ],
   "source": [
    "#plt.plot(t, ax)\n",
    "#plt.xlabel('time (ms)')\n",
    "#plt.plot(t, lbl*2000)\n",
    "idx1 = 71000\n",
    "idx2 = 143000\n",
    "ax2 = ax[idx1:idx2]\n",
    "lbl2 = lbl[idx1:idx2]\n",
    "t2 = (t[idx1:idx2] -t[idx1]) / 1000.0 /60# sec --> min\n",
    "\n",
    "\n",
    "plt.plot(t2,ax2)\n",
    "plt.plot(t2,lbl2*2000)\n",
    "plt.xlabel('time (sec)')"
   ]
  }
 ],
 "metadata": {
  "kernelspec": {
   "display_name": "Python 3",
   "language": "python",
   "name": "python3"
  },
  "language_info": {
   "codemirror_mode": {
    "name": "ipython",
    "version": 3
   },
   "file_extension": ".py",
   "mimetype": "text/x-python",
   "name": "python",
   "nbconvert_exporter": "python",
   "pygments_lexer": "ipython3",
   "version": "3.6.8"
  }
 },
 "nbformat": 4,
 "nbformat_minor": 2
}
